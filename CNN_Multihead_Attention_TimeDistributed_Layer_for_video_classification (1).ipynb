{
  "nbformat": 4,
  "nbformat_minor": 0,
  "metadata": {
    "colab": {
      "name": "CNN_Multihead_Attention_TimeDistributed_Layer_for video_classification.ipynb",
      "provenance": [],
      "collapsed_sections": []
    },
    "kernelspec": {
      "name": "python3",
      "display_name": "Python 3"
    },
    "language_info": {
      "name": "python"
    }
  },
  "cells": [
    {
      "cell_type": "code",
      "metadata": {
        "id": "8Rtw1trcJFfY"
      },
      "source": [
        "from keras.layers import *\n",
        "from keras import backend as K\n",
        "\n",
        "\n",
        "def TD_ConvBNRelu(x,filters=32,kernel_size=3,stride=2):\n",
        "\n",
        "  L1 = Conv2D(filters=filters,kernel_size=kernel_size,strides=stride)\n",
        "  L1_x = TimeDistributed(L1)(x)\n",
        "\n",
        "  L2 = BatchNormalization()\n",
        "  L2_x = TimeDistributed(L2)(L1_x)\n",
        "\n",
        "  L3 = ReLU()\n",
        "  L3_x = TimeDistributed(L3)(L2_x)\n",
        "  \n",
        "  return L3_x\n",
        "\n",
        "\n",
        "\n"
      ],
      "execution_count": 33,
      "outputs": []
    },
    {
      "cell_type": "code",
      "metadata": {
        "id": "7FLVoVufIJR0"
      },
      "source": [
        "def TD_CNN_MSA(num_of_frames = 8):\n",
        "\n",
        "  x_ip = Input(shape=(num_of_frames,256,256,3))\n",
        "\n",
        "  x = TD_ConvBNRelu(x_ip,32,3,1)\n",
        "  x = TD_ConvBNRelu(x,32,3,2)\n",
        "\n",
        "  x = TD_ConvBNRelu(x,64,3,1)\n",
        "  x = TD_ConvBNRelu(x,64,3,2)\n",
        "\n",
        "  x = TD_ConvBNRelu(x,128,3,1)\n",
        "  x = TD_ConvBNRelu(x,128,3,2)\n",
        "\n",
        "  x = TD_ConvBNRelu(x,256,3,1)\n",
        "  x = TD_ConvBNRelu(x,256,3,2)\n",
        "\n",
        "  x = TD_ConvBNRelu(x,512,3,1)\n",
        "  x = TD_ConvBNRelu(x,512,3,2)\n",
        "\n",
        "  x = TD_ConvBNRelu(x,1024,3,1)\n",
        "  x = TD_ConvBNRelu(x,1024,3,2)\n",
        "\n",
        "\n",
        "  x = TimeDistributed(Flatten())(x)\n",
        "\n",
        "  MSA = MultiHeadAttention(num_heads=12, key_dim=128)\n",
        "\n",
        "  x = MSA(x,x)\n",
        "\n",
        "  embedding_sum = Lambda(lambda x: K.sum(x, axis=1))(x)\n",
        "\n",
        "  y = Dense(101,activation='softmax')(embedding_sum)\n",
        "\n",
        "  model = keras.models.Model(inputs=x_ip,outputs = y )\n",
        "\n",
        "  model.summary()\n",
        "  \n",
        "  return model\n",
        "\n"
      ],
      "execution_count": 36,
      "outputs": []
    },
    {
      "cell_type": "code",
      "metadata": {
        "id": "Dt0dIHkCV1tX"
      },
      "source": [
        ""
      ],
      "execution_count": null,
      "outputs": []
    },
    {
      "cell_type": "code",
      "metadata": {
        "colab": {
          "base_uri": "https://localhost:8080/"
        },
        "id": "sbKOe1T-UOQq",
        "outputId": "f4043e43-6da6-4ad9-bb02-14c9a6540936"
      },
      "source": [
        "TD_CNN_MSA(num_of_frames = 8)"
      ],
      "execution_count": 37,
      "outputs": [
        {
          "output_type": "stream",
          "text": [
            "Model: \"model_4\"\n",
            "__________________________________________________________________________________________________\n",
            "Layer (type)                    Output Shape         Param #     Connected to                     \n",
            "==================================================================================================\n",
            "input_25 (InputLayer)           [(None, 8, 256, 256, 0                                            \n",
            "__________________________________________________________________________________________________\n",
            "time_distributed_640 (TimeDistr (None, 8, 254, 254,  896         input_25[0][0]                   \n",
            "__________________________________________________________________________________________________\n",
            "time_distributed_641 (TimeDistr (None, 8, 254, 254,  128         time_distributed_640[0][0]       \n",
            "__________________________________________________________________________________________________\n",
            "time_distributed_642 (TimeDistr (None, 8, 254, 254,  0           time_distributed_641[0][0]       \n",
            "__________________________________________________________________________________________________\n",
            "time_distributed_643 (TimeDistr (None, 8, 126, 126,  9248        time_distributed_642[0][0]       \n",
            "__________________________________________________________________________________________________\n",
            "time_distributed_644 (TimeDistr (None, 8, 126, 126,  128         time_distributed_643[0][0]       \n",
            "__________________________________________________________________________________________________\n",
            "time_distributed_645 (TimeDistr (None, 8, 126, 126,  0           time_distributed_644[0][0]       \n",
            "__________________________________________________________________________________________________\n",
            "time_distributed_646 (TimeDistr (None, 8, 124, 124,  18496       time_distributed_645[0][0]       \n",
            "__________________________________________________________________________________________________\n",
            "time_distributed_647 (TimeDistr (None, 8, 124, 124,  256         time_distributed_646[0][0]       \n",
            "__________________________________________________________________________________________________\n",
            "time_distributed_648 (TimeDistr (None, 8, 124, 124,  0           time_distributed_647[0][0]       \n",
            "__________________________________________________________________________________________________\n",
            "time_distributed_649 (TimeDistr (None, 8, 61, 61, 64 36928       time_distributed_648[0][0]       \n",
            "__________________________________________________________________________________________________\n",
            "time_distributed_650 (TimeDistr (None, 8, 61, 61, 64 256         time_distributed_649[0][0]       \n",
            "__________________________________________________________________________________________________\n",
            "time_distributed_651 (TimeDistr (None, 8, 61, 61, 64 0           time_distributed_650[0][0]       \n",
            "__________________________________________________________________________________________________\n",
            "time_distributed_652 (TimeDistr (None, 8, 59, 59, 12 73856       time_distributed_651[0][0]       \n",
            "__________________________________________________________________________________________________\n",
            "time_distributed_653 (TimeDistr (None, 8, 59, 59, 12 512         time_distributed_652[0][0]       \n",
            "__________________________________________________________________________________________________\n",
            "time_distributed_654 (TimeDistr (None, 8, 59, 59, 12 0           time_distributed_653[0][0]       \n",
            "__________________________________________________________________________________________________\n",
            "time_distributed_655 (TimeDistr (None, 8, 29, 29, 12 147584      time_distributed_654[0][0]       \n",
            "__________________________________________________________________________________________________\n",
            "time_distributed_656 (TimeDistr (None, 8, 29, 29, 12 512         time_distributed_655[0][0]       \n",
            "__________________________________________________________________________________________________\n",
            "time_distributed_657 (TimeDistr (None, 8, 29, 29, 12 0           time_distributed_656[0][0]       \n",
            "__________________________________________________________________________________________________\n",
            "time_distributed_658 (TimeDistr (None, 8, 27, 27, 25 295168      time_distributed_657[0][0]       \n",
            "__________________________________________________________________________________________________\n",
            "time_distributed_659 (TimeDistr (None, 8, 27, 27, 25 1024        time_distributed_658[0][0]       \n",
            "__________________________________________________________________________________________________\n",
            "time_distributed_660 (TimeDistr (None, 8, 27, 27, 25 0           time_distributed_659[0][0]       \n",
            "__________________________________________________________________________________________________\n",
            "time_distributed_661 (TimeDistr (None, 8, 13, 13, 25 590080      time_distributed_660[0][0]       \n",
            "__________________________________________________________________________________________________\n",
            "time_distributed_662 (TimeDistr (None, 8, 13, 13, 25 1024        time_distributed_661[0][0]       \n",
            "__________________________________________________________________________________________________\n",
            "time_distributed_663 (TimeDistr (None, 8, 13, 13, 25 0           time_distributed_662[0][0]       \n",
            "__________________________________________________________________________________________________\n",
            "time_distributed_664 (TimeDistr (None, 8, 11, 11, 51 1180160     time_distributed_663[0][0]       \n",
            "__________________________________________________________________________________________________\n",
            "time_distributed_665 (TimeDistr (None, 8, 11, 11, 51 2048        time_distributed_664[0][0]       \n",
            "__________________________________________________________________________________________________\n",
            "time_distributed_666 (TimeDistr (None, 8, 11, 11, 51 0           time_distributed_665[0][0]       \n",
            "__________________________________________________________________________________________________\n",
            "time_distributed_667 (TimeDistr (None, 8, 5, 5, 512) 2359808     time_distributed_666[0][0]       \n",
            "__________________________________________________________________________________________________\n",
            "time_distributed_668 (TimeDistr (None, 8, 5, 5, 512) 2048        time_distributed_667[0][0]       \n",
            "__________________________________________________________________________________________________\n",
            "time_distributed_669 (TimeDistr (None, 8, 5, 5, 512) 0           time_distributed_668[0][0]       \n",
            "__________________________________________________________________________________________________\n",
            "time_distributed_670 (TimeDistr (None, 8, 3, 3, 1024 4719616     time_distributed_669[0][0]       \n",
            "__________________________________________________________________________________________________\n",
            "time_distributed_671 (TimeDistr (None, 8, 3, 3, 1024 4096        time_distributed_670[0][0]       \n",
            "__________________________________________________________________________________________________\n",
            "time_distributed_672 (TimeDistr (None, 8, 3, 3, 1024 0           time_distributed_671[0][0]       \n",
            "__________________________________________________________________________________________________\n",
            "time_distributed_673 (TimeDistr (None, 8, 1, 1, 1024 9438208     time_distributed_672[0][0]       \n",
            "__________________________________________________________________________________________________\n",
            "time_distributed_674 (TimeDistr (None, 8, 1, 1, 1024 4096        time_distributed_673[0][0]       \n",
            "__________________________________________________________________________________________________\n",
            "time_distributed_675 (TimeDistr (None, 8, 1, 1, 1024 0           time_distributed_674[0][0]       \n",
            "__________________________________________________________________________________________________\n",
            "time_distributed_676 (TimeDistr (None, 8, 1024)      0           time_distributed_675[0][0]       \n",
            "__________________________________________________________________________________________________\n",
            "multi_head_attention_8 (MultiHe (None, 8, 1024)      6297088     time_distributed_676[0][0]       \n",
            "                                                                 time_distributed_676[0][0]       \n",
            "__________________________________________________________________________________________________\n",
            "lambda_6 (Lambda)               (None, 1024)         0           multi_head_attention_8[0][0]     \n",
            "__________________________________________________________________________________________________\n",
            "dense_6 (Dense)                 (None, 101)          103525      lambda_6[0][0]                   \n",
            "==================================================================================================\n",
            "Total params: 25,286,789\n",
            "Trainable params: 25,278,725\n",
            "Non-trainable params: 8,064\n",
            "__________________________________________________________________________________________________\n"
          ],
          "name": "stdout"
        },
        {
          "output_type": "execute_result",
          "data": {
            "text/plain": [
              "<keras.engine.functional.Functional at 0x7ff64bb91990>"
            ]
          },
          "metadata": {
            "tags": []
          },
          "execution_count": 37
        }
      ]
    }
  ]
}